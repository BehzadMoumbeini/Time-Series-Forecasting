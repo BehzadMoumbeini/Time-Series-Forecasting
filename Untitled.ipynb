{
 "cells": [
  {
   "cell_type": "code",
   "execution_count": null,
   "id": "8cb4f1bb-323c-4f06-ad4b-a37e1fcc9948",
   "metadata": {},
   "outputs": [],
   "source": [
    "import pandas as pd\n",
    "import numpy as np\n",
    "import matplotlib.pyplot as plt\n",
    "import seaborn as sns\n",
    "from statsmodels.tsa.holtwinters import ExponentialSmoothing\n",
    "from sklearn.metrics import mean_squared_error\n",
    "import warnings\n",
    "\n",
    "warnings.filterwarnings(\"ignore\")\n"
   ]
  },
  {
   "cell_type": "code",
   "execution_count": null,
   "id": "0d070a87-1168-4e3c-8f42-5c2716021d86",
   "metadata": {},
   "outputs": [],
   "source": [
    "#import data (data is from kaggle)\n",
    "\n",
    "data = pd.read_csv('../stock_prices.csv', parse_dates=['Date'], index_col='Date')\n",
    "data.head()"
   ]
  },
  {
   "cell_type": "code",
   "execution_count": null,
   "id": "913cae8c-bde9-46c6-8104-c3296aa4ac4a",
   "metadata": {},
   "outputs": [],
   "source": [
    "\n",
    "plt.figure(figsize=(10, 6))\n",
    "plt.plot(data['Close'], label='Close Price')\n",
    "plt.title('Stock Price Over Time')\n",
    "plt.xlabel('Date')\n",
    "plt.ylabel('Price')\n",
    "plt.legend()\n",
    "plt.show()\n"
   ]
  },
  {
   "cell_type": "code",
   "execution_count": null,
   "id": "e2b1eb5a-8abe-475d-86f7-04b83b1fd5b6",
   "metadata": {},
   "outputs": [],
   "source": [
    "#Train the test data\n",
    "\n",
    "train_data = data['Close'][:'2022']\n",
    "test_data = data['Close']['2023':]"
   ]
  },
  {
   "cell_type": "code",
   "execution_count": null,
   "id": "9b160e89-458f-43b9-9b92-304a9cd860de",
   "metadata": {},
   "outputs": [],
   "source": [
    "#build the model\n",
    "\n",
    "model = ExponentialSmoothing(train_data, trend='add', seasonal='add', seasonal_periods=12)\n",
    "fit = model.fit()"
   ]
  },
  {
   "cell_type": "code",
   "execution_count": null,
   "id": "8c2a1c6e-24d2-4cbb-beaf-05bf354c895e",
   "metadata": {},
   "outputs": [],
   "source": [
    "predictions = fit.forecast(len(test_data))\n"
   ]
  },
  {
   "cell_type": "code",
   "execution_count": null,
   "id": "b533c7e8-d6de-4520-b61b-37f762470d90",
   "metadata": {},
   "outputs": [],
   "source": [
    "#evaluate the model\n",
    "\n",
    "mse = mean_squared_error(test_data, predictions)\n",
    "print(f'Mean Squared Error: {mse}')"
   ]
  },
  {
   "cell_type": "code",
   "execution_count": null,
   "id": "6d7f0d38-6f1d-46ee-ba51-6cbdff535a04",
   "metadata": {},
   "outputs": [],
   "source": [
    "#plottinh\n",
    "\n",
    "plt.figure(figsize=(10, 6))\n",
    "plt.plot(train_data, label='Train')\n",
    "plt.plot(test_data, label='Test')\n",
    "plt.plot(predictions, label='Forecast')\n",
    "plt.title('Stock Price Forecasting')\n",
    "plt.xlabel('Date')\n",
    "plt.ylabel('Price')\n",
    "plt.legend()\n",
    "plt.show()"
   ]
  }
 ],
 "metadata": {
  "kernelspec": {
   "display_name": "Python 3 (ipykernel)",
   "language": "python",
   "name": "python3"
  },
  "language_info": {
   "codemirror_mode": {
    "name": "ipython",
    "version": 3
   },
   "file_extension": ".py",
   "mimetype": "text/x-python",
   "name": "python",
   "nbconvert_exporter": "python",
   "pygments_lexer": "ipython3",
   "version": "3.11.7"
  }
 },
 "nbformat": 4,
 "nbformat_minor": 5
}
